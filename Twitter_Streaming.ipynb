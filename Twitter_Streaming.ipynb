{
 "cells": [
  {
   "cell_type": "code",
   "execution_count": 1,
   "metadata": {},
   "outputs": [],
   "source": [
    "from tweepy import API \n",
    "from tweepy import Cursor\n",
    "from tweepy.streaming import StreamListener\n",
    "from tweepy import OAuthHandler\n",
    "from tweepy import Stream\n",
    " \n",
    "import twitter_credentials"
   ]
  },
  {
   "cell_type": "code",
   "execution_count": 2,
   "metadata": {},
   "outputs": [],
   "source": [
    "# # # # TWITTER CLIENT # # # #\n",
    "class TwitterClient():\n",
    "    def __init__(self, twitter_user=None):\n",
    "        self.auth = TwitterAuthenticator().authenticate_twitter_app()\n",
    "        self.twitter_client = API(self.auth)\n",
    "\n",
    "        self.twitter_user = twitter_user\n",
    "\n",
    "    def get_user_timeline_tweets(self, num_tweets):\n",
    "        tweets = []\n",
    "        for tweet in Cursor(self.twitter_client.user_timeline, id=self.twitter_user).items(num_tweets):\n",
    "            tweets.append(tweet)\n",
    "        return tweets\n",
    "\n",
    "    def get_friend_list(self, num_friends):\n",
    "        friend_list = []\n",
    "        for friend in Cursor(self.twitter_client.friends, id=self.twitter_user).items(num_friends):\n",
    "            friend_list.append(friend)\n",
    "        return friend_list\n",
    "\n",
    "    def get_home_timeline_tweets(self, num_tweets):\n",
    "        home_timeline_tweets = []\n",
    "        for tweet in Cursor(self.twitter_client.home_timeline, id=self.twitter_user).items(num_tweets):\n",
    "            home_timeline_tweets.append(tweet)\n",
    "        return home_timeline_tweets\n"
   ]
  },
  {
   "cell_type": "code",
   "execution_count": 3,
   "metadata": {},
   "outputs": [],
   "source": [
    "# # # # TWITTER AUTHENTICATER # # # #\n",
    "class TwitterAuthenticator():\n",
    "\n",
    "    def authenticate_twitter_app(self):\n",
    "        auth = OAuthHandler(twitter_credentials.CONSUMER_KEY, twitter_credentials.CONSUMER_SECRET)\n",
    "        auth.set_access_token(twitter_credentials.ACCESS_TOKEN, twitter_credentials.ACCESS_TOKEN_SECRET)\n",
    "        return auth"
   ]
  },
  {
   "cell_type": "code",
   "execution_count": 4,
   "metadata": {},
   "outputs": [],
   "source": [
    "# # # # TWITTER STREAMER # # # #\n",
    "class TwitterStreamer():\n",
    "    \"\"\"\n",
    "    Class for streaming and processing live tweets.\n",
    "    \"\"\"\n",
    "    def __init__(self):\n",
    "        self.twitter_autenticator = TwitterAuthenticator()    \n",
    "\n",
    "    def stream_tweets(self, fetched_tweets_filename, hash_tag_list):\n",
    "        # This handles Twitter authetification and the connection to Twitter Streaming API\n",
    "        listener = TwitterListener(fetched_tweets_filename)\n",
    "        auth = self.twitter_autenticator.authenticate_twitter_app() \n",
    "        stream = Stream(auth, listener)\n",
    "\n",
    "        # This line filter Twitter Streams to capture data by the keywords: \n",
    "        stream.filter(track=hash_tag_list)\n"
   ]
  },
  {
   "cell_type": "code",
   "execution_count": 5,
   "metadata": {},
   "outputs": [],
   "source": [
    "# # # # TWITTER STREAM LISTENER # # # #\n",
    "class TwitterListener(StreamListener):\n",
    "    \"\"\"\n",
    "    This is a basic listener that just prints received tweets to stdout.\n",
    "    \"\"\"\n",
    "    def __init__(self, fetched_tweets_filename):\n",
    "        self.fetched_tweets_filename = fetched_tweets_filename\n",
    "\n",
    "    def on_data(self, data):\n",
    "        try:\n",
    "            print(data)\n",
    "            with open(self.fetched_tweets_filename, 'a') as tf:\n",
    "                tf.write(data)\n",
    "            return True\n",
    "        except BaseException as e:\n",
    "            print(\"Error on_data %s\" % str(e))\n",
    "        return True\n",
    "          \n",
    "    def on_error(self, status):\n",
    "        if status == 420:\n",
    "            # Returning False on_data method in case rate limit occurs.\n",
    "            return False\n",
    "        print(status)\n"
   ]
  },
  {
   "cell_type": "code",
   "execution_count": 10,
   "metadata": {},
   "outputs": [
    {
     "name": "stdout",
     "output_type": "stream",
     "text": [
      "[Status(truncated=False, user=User(contributors_enabled=False, url=None, profile_use_background_image=True, profile_banner_url='https://pbs.twimg.com/profile_banners/1021678748/1511848160', id=1021678748, follow_request_sent=False, profile_background_image_url='http://abs.twimg.com/images/themes/theme1/bg.png', utc_offset=None, profile_sidebar_fill_color='DDEEF6', notifications=False, location='', following=False, has_extended_profile=False, followers_count=0, lang='en', profile_text_color='333333', is_translator=False, listed_count=0, description='', profile_background_image_url_https='https://abs.twimg.com/images/themes/theme1/bg.png', default_profile_image=True, is_translation_enabled=False, statuses_count=1, geo_enabled=False, name='rahul kanojia', profile_image_url_https='https://abs.twimg.com/sticky/default_profile_images/default_profile_normal.png', created_at=datetime.datetime(2012, 12, 19, 9, 6, 7), screen_name='rahulkanojia98', profile_link_color='1DA1F2', profile_background_color='C0DEED', friends_count=10, profile_background_tile=False, profile_image_url='http://abs.twimg.com/sticky/default_profile_images/default_profile_normal.png', id_str='1021678748', verified=False, _json={'is_translation_enabled': False, 'contributors_enabled': False, 'statuses_count': 1, 'url': None, 'follow_request_sent': False, 'name': 'rahul kanojia', 'notifications': False, 'profile_image_url_https': 'https://abs.twimg.com/sticky/default_profile_images/default_profile_normal.png', 'profile_banner_url': 'https://pbs.twimg.com/profile_banners/1021678748/1511848160', 'created_at': 'Wed Dec 19 09:06:07 +0000 2012', 'id': 1021678748, 'screen_name': 'rahulkanojia98', 'profile_link_color': '1DA1F2', 'profile_background_color': 'C0DEED', 'entities': {'description': {'urls': []}}, 'location': '', 'utc_offset': None, 'profile_background_tile': False, 'profile_image_url': 'http://abs.twimg.com/sticky/default_profile_images/default_profile_normal.png', 'profile_background_image_url': 'http://abs.twimg.com/images/themes/theme1/bg.png', 'description': '', 'profile_sidebar_fill_color': 'DDEEF6', 'id_str': '1021678748', 'verified': False, 'translator_type': 'none', 'profile_background_image_url_https': 'https://abs.twimg.com/images/themes/theme1/bg.png', 'following': False, 'has_extended_profile': False, 'followers_count': 0, 'friends_count': 10, 'profile_use_background_image': True, 'geo_enabled': False, 'profile_sidebar_border_color': 'C0DEED', 'lang': 'en', 'profile_text_color': '333333', 'is_translator': False, 'time_zone': None, 'listed_count': 0, 'favourites_count': 0, 'protected': False, 'default_profile_image': True, 'default_profile': True}, time_zone=None, translator_type='none', profile_sidebar_border_color='C0DEED', _api=<tweepy.api.API object at 0x0000025EB40FDD30>, favourites_count=0, entities={'description': {'urls': []}}, default_profile=True, protected=False), favorite_count=0, retweet_count=0, author=User(contributors_enabled=False, url=None, profile_use_background_image=True, profile_banner_url='https://pbs.twimg.com/profile_banners/1021678748/1511848160', id=1021678748, follow_request_sent=False, profile_background_image_url='http://abs.twimg.com/images/themes/theme1/bg.png', utc_offset=None, profile_sidebar_fill_color='DDEEF6', notifications=False, location='', following=False, has_extended_profile=False, followers_count=0, lang='en', profile_text_color='333333', is_translator=False, listed_count=0, description='', profile_background_image_url_https='https://abs.twimg.com/images/themes/theme1/bg.png', default_profile_image=True, is_translation_enabled=False, statuses_count=1, geo_enabled=False, name='rahul kanojia', profile_image_url_https='https://abs.twimg.com/sticky/default_profile_images/default_profile_normal.png', created_at=datetime.datetime(2012, 12, 19, 9, 6, 7), screen_name='rahulkanojia98', profile_link_color='1DA1F2', profile_background_color='C0DEED', friends_count=10, profile_background_tile=False, profile_image_url='http://abs.twimg.com/sticky/default_profile_images/default_profile_normal.png', id_str='1021678748', verified=False, _json={'is_translation_enabled': False, 'contributors_enabled': False, 'statuses_count': 1, 'url': None, 'follow_request_sent': False, 'name': 'rahul kanojia', 'notifications': False, 'profile_image_url_https': 'https://abs.twimg.com/sticky/default_profile_images/default_profile_normal.png', 'profile_banner_url': 'https://pbs.twimg.com/profile_banners/1021678748/1511848160', 'created_at': 'Wed Dec 19 09:06:07 +0000 2012', 'id': 1021678748, 'screen_name': 'rahulkanojia98', 'profile_link_color': '1DA1F2', 'profile_background_color': 'C0DEED', 'entities': {'description': {'urls': []}}, 'location': '', 'utc_offset': None, 'profile_background_tile': False, 'profile_image_url': 'http://abs.twimg.com/sticky/default_profile_images/default_profile_normal.png', 'profile_background_image_url': 'http://abs.twimg.com/images/themes/theme1/bg.png', 'description': '', 'profile_sidebar_fill_color': 'DDEEF6', 'id_str': '1021678748', 'verified': False, 'translator_type': 'none', 'profile_background_image_url_https': 'https://abs.twimg.com/images/themes/theme1/bg.png', 'following': False, 'has_extended_profile': False, 'followers_count': 0, 'friends_count': 10, 'profile_use_background_image': True, 'geo_enabled': False, 'profile_sidebar_border_color': 'C0DEED', 'lang': 'en', 'profile_text_color': '333333', 'is_translator': False, 'time_zone': None, 'listed_count': 0, 'favourites_count': 0, 'protected': False, 'default_profile_image': True, 'default_profile': True}, time_zone=None, translator_type='none', profile_sidebar_border_color='C0DEED', _api=<tweepy.api.API object at 0x0000025EB40FDD30>, favourites_count=0, entities={'description': {'urls': []}}, default_profile=True, protected=False), contributors=None, in_reply_to_status_id=None, _json={'truncated': False, 'user': {'is_translation_enabled': False, 'contributors_enabled': False, 'statuses_count': 1, 'url': None, 'follow_request_sent': False, 'name': 'rahul kanojia', 'notifications': False, 'profile_image_url_https': 'https://abs.twimg.com/sticky/default_profile_images/default_profile_normal.png', 'profile_banner_url': 'https://pbs.twimg.com/profile_banners/1021678748/1511848160', 'created_at': 'Wed Dec 19 09:06:07 +0000 2012', 'id': 1021678748, 'screen_name': 'rahulkanojia98', 'profile_link_color': '1DA1F2', 'profile_background_color': 'C0DEED', 'entities': {'description': {'urls': []}}, 'location': '', 'utc_offset': None, 'profile_background_tile': False, 'profile_image_url': 'http://abs.twimg.com/sticky/default_profile_images/default_profile_normal.png', 'profile_background_image_url': 'http://abs.twimg.com/images/themes/theme1/bg.png', 'description': '', 'profile_sidebar_fill_color': 'DDEEF6', 'id_str': '1021678748', 'verified': False, 'translator_type': 'none', 'profile_background_image_url_https': 'https://abs.twimg.com/images/themes/theme1/bg.png', 'following': False, 'has_extended_profile': False, 'followers_count': 0, 'friends_count': 10, 'profile_use_background_image': True, 'geo_enabled': False, 'profile_sidebar_border_color': 'C0DEED', 'lang': 'en', 'profile_text_color': '333333', 'is_translator': False, 'time_zone': None, 'listed_count': 0, 'favourites_count': 0, 'protected': False, 'default_profile_image': True, 'default_profile': True}, 'favorite_count': 0, 'retweet_count': 0, 'contributors': None, 'in_reply_to_status_id': None, 'created_at': 'Tue Jul 30 03:23:41 +0000 2013', 'favorited': False, 'id': 362050840300756992, 'coordinates': None, 'is_quote_status': False, 'in_reply_to_status_id_str': None, 'in_reply_to_user_id': 16507391, 'id_str': '362050840300756992', 'in_reply_to_user_id_str': '16507391', 'place': None, 'geo': None, 'in_reply_to_screen_name': 'MTVIndia', 'lang': 'und', 'entities': {'user_mentions': [{'id_str': '16507391', 'indices': [0, 9], 'name': 'MTV India', 'id': 16507391, 'screen_name': 'MTVIndia'}], 'symbols': [], 'urls': [], 'hashtags': []}, 'source': '<a href=\"http://store.ovi.com/content/256340\" rel=\"nofollow\">Twitter for Nokia S40</a>', 'retweeted': False, 'text': '@MTVIndia'}, created_at=datetime.datetime(2013, 7, 30, 3, 23, 41), favorited=False, id=362050840300756992, coordinates=None, is_quote_status=False, in_reply_to_status_id_str=None, in_reply_to_user_id=16507391, id_str='362050840300756992', in_reply_to_user_id_str='16507391', place=None, geo=None, in_reply_to_screen_name='MTVIndia', lang='und', _api=<tweepy.api.API object at 0x0000025EB40FDD30>, source_url='http://store.ovi.com/content/256340', entities={'user_mentions': [{'id_str': '16507391', 'indices': [0, 9], 'name': 'MTV India', 'id': 16507391, 'screen_name': 'MTVIndia'}], 'symbols': [], 'urls': [], 'hashtags': []}, text='@MTVIndia', retweeted=False, source='Twitter for Nokia S40')]\n"
     ]
    }
   ],
   "source": [
    "if __name__ == '__main__':\n",
    " \n",
    "    # Authenticate using config.py and connect to Twitter Streaming API.\n",
    "    hash_tag_list = [\"donal trump\", \"hillary clinton\", \"barack obama\", \"bernie sanders\"]\n",
    "    fetched_tweets_filename = \"tweets.txt\"\n",
    "\n",
    "    twitter_client = TwitterClient('rahulkanojia98')\n",
    "    print(twitter_client.get_user_timeline_tweets(1))\n",
    "\n",
    "#    twitter_streamer = TwitterStreamer()\n",
    "#    twitter_streamer.stream_tweets(fetched_tweets_filename, hash_tag_list)"
   ]
  }
 ],
 "metadata": {
  "kernelspec": {
   "display_name": "Python 3",
   "language": "python",
   "name": "python3"
  },
  "language_info": {
   "codemirror_mode": {
    "name": "ipython",
    "version": 3
   },
   "file_extension": ".py",
   "mimetype": "text/x-python",
   "name": "python",
   "nbconvert_exporter": "python",
   "pygments_lexer": "ipython3",
   "version": "3.5.5"
  }
 },
 "nbformat": 4,
 "nbformat_minor": 2
}
